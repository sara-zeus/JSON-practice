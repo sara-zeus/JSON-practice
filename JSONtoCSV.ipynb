{
  "nbformat": 4,
  "nbformat_minor": 0,
  "metadata": {
    "colab": {
      "provenance": [],
      "authorship_tag": "ABX9TyNUpSPLlCCdJGUfhg2+aRZG",
      "include_colab_link": true
    },
    "kernelspec": {
      "name": "python3",
      "display_name": "Python 3"
    },
    "language_info": {
      "name": "python"
    }
  },
  "cells": [
    {
      "cell_type": "markdown",
      "metadata": {
        "id": "view-in-github",
        "colab_type": "text"
      },
      "source": [
        "<a href=\"https://colab.research.google.com/github/sara-zeus/JSON-practice/blob/main/JSONtoCSV.ipynb\" target=\"_parent\"><img src=\"https://colab.research.google.com/assets/colab-badge.svg\" alt=\"Open In Colab\"/></a>"
      ]
    },
    {
      "cell_type": "code",
      "execution_count": null,
      "metadata": {
        "id": "K1JwNSNnCKa7"
      },
      "outputs": [],
      "source": [
        "#JSON to CSV\n",
        "import json\n",
        "import pandas as pd\n",
        "\n",
        "# Load JSON data\n",
        "with open('data_file.json', 'r') as json_file:\n",
        "    data = json.load(json_file)\n",
        "\n",
        "# Convert to DataFrame\n",
        "df = pd.DataFrame(data)\n",
        "\n",
        "# Save as CSV\n",
        "df.to_csv('data.csv', index=False)\n"
      ]
    }
  ]
}