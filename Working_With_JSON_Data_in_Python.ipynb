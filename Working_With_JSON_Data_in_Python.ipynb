{
  "nbformat": 4,
  "nbformat_minor": 0,
  "metadata": {
    "colab": {
      "provenance": [],
      "authorship_tag": "ABX9TyMz1c2HClEQfouUb6UlmdXl",
      "include_colab_link": true
    },
    "kernelspec": {
      "name": "python3",
      "display_name": "Python 3"
    },
    "language_info": {
      "name": "python"
    }
  },
  "cells": [
    {
      "cell_type": "markdown",
      "metadata": {
        "id": "view-in-github",
        "colab_type": "text"
      },
      "source": [
        "<a href=\"https://colab.research.google.com/github/sara-zeus/JSON-practice/blob/main/Working_With_JSON_Data_in_Python.ipynb\" target=\"_parent\"><img src=\"https://colab.research.google.com/assets/colab-badge.svg\" alt=\"Open In Colab\"/></a>"
      ]
    },
    {
      "cell_type": "code",
      "execution_count": 1,
      "metadata": {
        "id": "HQnYoSAWGpSD"
      },
      "outputs": [],
      "source": [
        "import json\n",
        "import requests"
      ]
    },
    {
      "cell_type": "code",
      "source": [
        "response= requests.get(\"https://jsonplaceholder.typicode.com/todos\")"
      ],
      "metadata": {
        "id": "3R57Q8znGsUn"
      },
      "execution_count": 2,
      "outputs": []
    },
    {
      "cell_type": "code",
      "source": [
        "todos= json.loads(response.text)\n"
      ],
      "metadata": {
        "id": "nSV9iYa4GsXH"
      },
      "execution_count": 3,
      "outputs": []
    },
    {
      "cell_type": "code",
      "source": [
        "len(todos)"
      ],
      "metadata": {
        "colab": {
          "base_uri": "https://localhost:8080/"
        },
        "id": "0TO8izmpGsZG",
        "outputId": "aa4b6e56-7896-45c7-8b31-998a01ad5c91"
      },
      "execution_count": 4,
      "outputs": [
        {
          "output_type": "execute_result",
          "data": {
            "text/plain": [
              "200"
            ]
          },
          "metadata": {},
          "execution_count": 4
        }
      ]
    },
    {
      "cell_type": "code",
      "source": [
        "print(todos[:10])"
      ],
      "metadata": {
        "colab": {
          "base_uri": "https://localhost:8080/"
        },
        "id": "RgRQ0oozGsbb",
        "outputId": "cc68d9dd-58d7-4126-91b6-d9b25acc7bee"
      },
      "execution_count": 5,
      "outputs": [
        {
          "output_type": "stream",
          "name": "stdout",
          "text": [
            "[{'userId': 1, 'id': 1, 'title': 'delectus aut autem', 'completed': False}, {'userId': 1, 'id': 2, 'title': 'quis ut nam facilis et officia qui', 'completed': False}, {'userId': 1, 'id': 3, 'title': 'fugiat veniam minus', 'completed': False}, {'userId': 1, 'id': 4, 'title': 'et porro tempora', 'completed': True}, {'userId': 1, 'id': 5, 'title': 'laboriosam mollitia et enim quasi adipisci quia provident illum', 'completed': False}, {'userId': 1, 'id': 6, 'title': 'qui ullam ratione quibusdam voluptatem quia omnis', 'completed': False}, {'userId': 1, 'id': 7, 'title': 'illo expedita consequatur quia in', 'completed': False}, {'userId': 1, 'id': 8, 'title': 'quo adipisci enim quam ut ab', 'completed': True}, {'userId': 1, 'id': 9, 'title': 'molestiae perspiciatis ipsa', 'completed': False}, {'userId': 1, 'id': 10, 'title': 'illo est ratione doloremque quia maiores aut', 'completed': True}]\n"
          ]
        }
      ]
    },
    {
      "cell_type": "code",
      "source": [
        "todos_by_user = {}\n",
        "for todo in todos:\n",
        "    if todo[\"completed\"]:\n",
        "        try:\n",
        "            todos_by_user[todo[\"userId\"]] += 1\n",
        "        except KeyError:\n",
        "            todos_by_user[todo[\"userId\"]] = 1\n",
        "\n",
        "top_users = sorted(todos_by_user.items(), key=lambda x: x[1], reverse=True)\n",
        "\n",
        "max_completed = top_users[0][1] #12\n",
        "\n",
        "users = []\n",
        "for user, num_complete in top_users:\n",
        "    if num_complete < max_completed:\n",
        "        break\n",
        "    users.append(str(user))\n",
        "\n",
        "max_users = \" and \".join(users)\n",
        "\n",
        "print(f\"User(s) {max_users} completed {max_completed} TODOs\")\n"
      ],
      "metadata": {
        "colab": {
          "base_uri": "https://localhost:8080/"
        },
        "id": "923hWY7wGsdh",
        "outputId": "e6fe646a-b187-4519-d1b1-6f2d6eee8888"
      },
      "execution_count": 6,
      "outputs": [
        {
          "output_type": "stream",
          "name": "stdout",
          "text": [
            "User(s) 5 and 10 completed 12 TODOs\n"
          ]
        }
      ]
    },
    {
      "cell_type": "code",
      "source": [
        "if todos[0][\"completed\"]:\n",
        "        try:\n",
        "            todos_by_user[todo[\"userId\"]] += 1\n",
        "        except KeyError:\n",
        "            todos_by_user[todo[\"userId\"]] = 1"
      ],
      "metadata": {
        "id": "7Y91szBfGsfn"
      },
      "execution_count": 7,
      "outputs": []
    },
    {
      "cell_type": "code",
      "source": [
        "todos[3][\"completed\"]"
      ],
      "metadata": {
        "colab": {
          "base_uri": "https://localhost:8080/"
        },
        "id": "UTspVPH4Gshs",
        "outputId": "d27403bb-70c9-4df6-9534-491ee93153ac"
      },
      "execution_count": 8,
      "outputs": [
        {
          "output_type": "execute_result",
          "data": {
            "text/plain": [
              "True"
            ]
          },
          "metadata": {},
          "execution_count": 8
        }
      ]
    },
    {
      "cell_type": "code",
      "source": [
        "todos[3][\"userId\"]"
      ],
      "metadata": {
        "colab": {
          "base_uri": "https://localhost:8080/"
        },
        "id": "_q-fP6yVGsj6",
        "outputId": "f555433f-5c87-4a14-ec78-76a15eea98a9"
      },
      "execution_count": 9,
      "outputs": [
        {
          "output_type": "execute_result",
          "data": {
            "text/plain": [
              "1"
            ]
          },
          "metadata": {},
          "execution_count": 9
        }
      ]
    },
    {
      "cell_type": "code",
      "source": [
        "todos_by_users={}"
      ],
      "metadata": {
        "id": "y5xY-BESGsmN"
      },
      "execution_count": 10,
      "outputs": []
    },
    {
      "cell_type": "code",
      "source": [
        "todos_by_users[todos[7][\"userId\"]]+=1"
      ],
      "metadata": {
        "colab": {
          "base_uri": "https://localhost:8080/",
          "height": 174
        },
        "id": "aUMa8t3sGsoP",
        "outputId": "84c5a650-0d2b-4cf0-8206-c825af7f006c"
      },
      "execution_count": 11,
      "outputs": [
        {
          "output_type": "error",
          "ename": "KeyError",
          "evalue": "ignored",
          "traceback": [
            "\u001b[0;31m---------------------------------------------------------------------------\u001b[0m",
            "\u001b[0;31mKeyError\u001b[0m                                  Traceback (most recent call last)",
            "\u001b[0;32m<ipython-input-11-6d724e914a0c>\u001b[0m in \u001b[0;36m<cell line: 1>\u001b[0;34m()\u001b[0m\n\u001b[0;32m----> 1\u001b[0;31m \u001b[0mtodos_by_users\u001b[0m\u001b[0;34m[\u001b[0m\u001b[0mtodos\u001b[0m\u001b[0;34m[\u001b[0m\u001b[0;36m7\u001b[0m\u001b[0;34m]\u001b[0m\u001b[0;34m[\u001b[0m\u001b[0;34m\"userId\"\u001b[0m\u001b[0;34m]\u001b[0m\u001b[0;34m]\u001b[0m\u001b[0;34m+=\u001b[0m\u001b[0;36m1\u001b[0m\u001b[0;34m\u001b[0m\u001b[0;34m\u001b[0m\u001b[0m\n\u001b[0m",
            "\u001b[0;31mKeyError\u001b[0m: 1"
          ]
        }
      ]
    },
    {
      "cell_type": "code",
      "source": [
        "todos_by_user"
      ],
      "metadata": {
        "colab": {
          "base_uri": "https://localhost:8080/"
        },
        "id": "LctAwVyUGsqo",
        "outputId": "398f8cd6-3c85-465c-99f8-ccb792b590a7"
      },
      "execution_count": 12,
      "outputs": [
        {
          "output_type": "execute_result",
          "data": {
            "text/plain": [
              "{1: 11, 2: 8, 3: 7, 4: 6, 5: 12, 6: 6, 7: 9, 8: 11, 9: 8, 10: 12}"
            ]
          },
          "metadata": {},
          "execution_count": 12
        }
      ]
    },
    {
      "cell_type": "code",
      "source": [
        " todos_by_users[todos[3][\"userId\"]] = 1"
      ],
      "metadata": {
        "id": "1UQpZJ_9HCek"
      },
      "execution_count": 13,
      "outputs": []
    },
    {
      "cell_type": "code",
      "source": [
        "todos_by_users"
      ],
      "metadata": {
        "colab": {
          "base_uri": "https://localhost:8080/"
        },
        "id": "vytUbT6rHCg1",
        "outputId": "becdcef1-3833-4a44-cb90-3cfee476886d"
      },
      "execution_count": 14,
      "outputs": [
        {
          "output_type": "execute_result",
          "data": {
            "text/plain": [
              "{1: 1}"
            ]
          },
          "metadata": {},
          "execution_count": 14
        }
      ]
    },
    {
      "cell_type": "code",
      "source": [
        "todos_by_usersss = {}\n",
        "for todo in todos:\n",
        "    if todo[\"completed\"]:\n",
        "        try:\n",
        "            todos_by_usersss[todo[\"userId\"]] += 1\n",
        "        except KeyError:\n",
        "            todos_by_usersss[todo[\"userId\"]] = 1\n"
      ],
      "metadata": {
        "id": "f7M726WPHCjE"
      },
      "execution_count": 15,
      "outputs": []
    },
    {
      "cell_type": "code",
      "source": [
        "todos_by_usersss"
      ],
      "metadata": {
        "colab": {
          "base_uri": "https://localhost:8080/"
        },
        "id": "MxQF8FjBHClq",
        "outputId": "3fc35030-dca7-4227-f6a8-ed3aa0caf2b6"
      },
      "execution_count": 16,
      "outputs": [
        {
          "output_type": "execute_result",
          "data": {
            "text/plain": [
              "{1: 11, 2: 8, 3: 7, 4: 6, 5: 12, 6: 6, 7: 9, 8: 11, 9: 8, 10: 12}"
            ]
          },
          "metadata": {},
          "execution_count": 16
        }
      ]
    },
    {
      "cell_type": "code",
      "source": [
        "todos_by_user.values()"
      ],
      "metadata": {
        "colab": {
          "base_uri": "https://localhost:8080/"
        },
        "id": "GfNwbPplHCob",
        "outputId": "732365d8-8891-493d-b660-9e1dc58f86a1"
      },
      "execution_count": 17,
      "outputs": [
        {
          "output_type": "execute_result",
          "data": {
            "text/plain": [
              "dict_values([11, 8, 7, 6, 12, 6, 9, 11, 8, 12])"
            ]
          },
          "metadata": {},
          "execution_count": 17
        }
      ]
    },
    {
      "cell_type": "code",
      "source": [
        "todos_by_user.keys()"
      ],
      "metadata": {
        "colab": {
          "base_uri": "https://localhost:8080/"
        },
        "id": "MIODUexyHCrF",
        "outputId": "9287f7f4-4136-4d4c-932b-e8656f6ade20"
      },
      "execution_count": 18,
      "outputs": [
        {
          "output_type": "execute_result",
          "data": {
            "text/plain": [
              "dict_keys([1, 2, 3, 4, 5, 6, 7, 8, 9, 10])"
            ]
          },
          "metadata": {},
          "execution_count": 18
        }
      ]
    },
    {
      "cell_type": "code",
      "source": [
        "todos_by_user.items() #tuples"
      ],
      "metadata": {
        "colab": {
          "base_uri": "https://localhost:8080/"
        },
        "id": "xO4R8bR1HCuG",
        "outputId": "c1453a9d-cae7-4751-ec23-86e6aeeb3b72"
      },
      "execution_count": 19,
      "outputs": [
        {
          "output_type": "execute_result",
          "data": {
            "text/plain": [
              "dict_items([(1, 11), (2, 8), (3, 7), (4, 6), (5, 12), (6, 6), (7, 9), (8, 11), (9, 8), (10, 12)])"
            ]
          },
          "metadata": {},
          "execution_count": 19
        }
      ]
    },
    {
      "cell_type": "code",
      "source": [
        "top_users"
      ],
      "metadata": {
        "colab": {
          "base_uri": "https://localhost:8080/"
        },
        "id": "wynwNdM0HCxy",
        "outputId": "b8d29b18-4d66-490b-d3b4-bc986c49392c"
      },
      "execution_count": 20,
      "outputs": [
        {
          "output_type": "execute_result",
          "data": {
            "text/plain": [
              "[(5, 12),\n",
              " (10, 12),\n",
              " (1, 11),\n",
              " (8, 11),\n",
              " (7, 9),\n",
              " (2, 8),\n",
              " (9, 8),\n",
              " (3, 7),\n",
              " (4, 6),\n",
              " (6, 6)]"
            ]
          },
          "metadata": {},
          "execution_count": 20
        }
      ]
    },
    {
      "cell_type": "code",
      "source": [
        "top_users[0]"
      ],
      "metadata": {
        "colab": {
          "base_uri": "https://localhost:8080/"
        },
        "id": "ARLMX9LxHC0t",
        "outputId": "a3a7fac6-2093-45a8-c9dd-a622fcace31b"
      },
      "execution_count": 21,
      "outputs": [
        {
          "output_type": "execute_result",
          "data": {
            "text/plain": [
              "(5, 12)"
            ]
          },
          "metadata": {},
          "execution_count": 21
        }
      ]
    },
    {
      "cell_type": "code",
      "source": [
        "top_users[0][1]"
      ],
      "metadata": {
        "colab": {
          "base_uri": "https://localhost:8080/"
        },
        "id": "vGQ5D956HPVs",
        "outputId": "37763f2a-5dfb-43d4-9b67-48d9be84d153"
      },
      "execution_count": 22,
      "outputs": [
        {
          "output_type": "execute_result",
          "data": {
            "text/plain": [
              "12"
            ]
          },
          "metadata": {},
          "execution_count": 22
        }
      ]
    },
    {
      "cell_type": "code",
      "source": [
        "users"
      ],
      "metadata": {
        "colab": {
          "base_uri": "https://localhost:8080/"
        },
        "id": "YlUWQ9CAHPYU",
        "outputId": "d579401f-5765-45a4-8a73-40b5fdcd6a3c"
      },
      "execution_count": 23,
      "outputs": [
        {
          "output_type": "execute_result",
          "data": {
            "text/plain": [
              "['5', '10']"
            ]
          },
          "metadata": {},
          "execution_count": 23
        }
      ]
    },
    {
      "cell_type": "code",
      "source": [
        "max_users"
      ],
      "metadata": {
        "colab": {
          "base_uri": "https://localhost:8080/",
          "height": 35
        },
        "id": "pAdOYfZ3HPbP",
        "outputId": "2ea30cf1-90cc-441e-8708-441b1f4935b7"
      },
      "execution_count": 24,
      "outputs": [
        {
          "output_type": "execute_result",
          "data": {
            "text/plain": [
              "'5 and 10'"
            ],
            "application/vnd.google.colaboratory.intrinsic+json": {
              "type": "string"
            }
          },
          "metadata": {},
          "execution_count": 24
        }
      ]
    },
    {
      "cell_type": "code",
      "source": [
        "todos_by_user = {}\n",
        "for todo in todos:\n",
        "    if todo[\"completed\"]:\n",
        "        try:\n",
        "            todos_by_user[todo[\"userId\"]] += 1\n",
        "        except KeyError:\n",
        "            todos_by_user[todo[\"userId\"]] = 1\n",
        "\n",
        "top_users = sorted(todos_by_user.items(), key=lambda x: x[1], reverse=True)\n",
        "\n",
        "max_completed = top_users[0][1] #12\n",
        "\n",
        "users = []\n",
        "for user, num_complete in top_users:\n",
        "    if num_complete < max_completed:\n",
        "        break\n",
        "    users.append(str(user))\n",
        "\n",
        "max_users = \" and \".join(users)\n",
        "\n",
        "print(f\"User(s) {max_users} completed {max_completed} TODOs\")\n"
      ],
      "metadata": {
        "colab": {
          "base_uri": "https://localhost:8080/"
        },
        "id": "wxILHhUkHPeK",
        "outputId": "927ca9e9-d584-4281-bdc2-538f410df0e5"
      },
      "execution_count": 25,
      "outputs": [
        {
          "output_type": "stream",
          "name": "stdout",
          "text": [
            "User(s) 5 and 10 completed 12 TODOs\n"
          ]
        }
      ]
    },
    {
      "cell_type": "code",
      "source": [],
      "metadata": {
        "id": "RLU4zMW2HPhV"
      },
      "execution_count": null,
      "outputs": []
    }
  ]
}