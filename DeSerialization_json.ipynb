{
  "nbformat": 4,
  "nbformat_minor": 0,
  "metadata": {
    "colab": {
      "provenance": [],
      "authorship_tag": "ABX9TyNC+0ye3xGFagUvA0ib8F+J",
      "include_colab_link": true
    },
    "kernelspec": {
      "name": "python3",
      "display_name": "Python 3"
    },
    "language_info": {
      "name": "python"
    }
  },
  "cells": [
    {
      "cell_type": "markdown",
      "metadata": {
        "id": "view-in-github",
        "colab_type": "text"
      },
      "source": [
        "<a href=\"https://colab.research.google.com/github/sara-zeus/JSON-practice/blob/main/DeSerialization_json.ipynb\" target=\"_parent\"><img src=\"https://colab.research.google.com/assets/colab-badge.svg\" alt=\"Open In Colab\"/></a>"
      ]
    },
    {
      "cell_type": "code",
      "execution_count": 1,
      "metadata": {
        "id": "eafjdAv51H4I"
      },
      "outputs": [],
      "source": [
        "import json\n",
        "blackjack_hand=(8,\"Q\")\n",
        "encoded_hand=json.dumps(blackjack_hand)\n",
        "decoded_hand=json.loads(encoded_hand)\n"
      ]
    },
    {
      "cell_type": "code",
      "source": [
        "type(decoded_hand)"
      ],
      "metadata": {
        "id": "ax6FtSV51IaQ",
        "colab": {
          "base_uri": "https://localhost:8080/"
        },
        "outputId": "9545f71b-e083-49a9-c1ed-2044b282b99a"
      },
      "execution_count": 2,
      "outputs": [
        {
          "output_type": "execute_result",
          "data": {
            "text/plain": [
              "list"
            ]
          },
          "metadata": {},
          "execution_count": 2
        }
      ]
    },
    {
      "cell_type": "code",
      "source": [
        "decoded_hand"
      ],
      "metadata": {
        "id": "S3wTbDKy1Icc",
        "colab": {
          "base_uri": "https://localhost:8080/"
        },
        "outputId": "502fb544-3aa6-424f-a523-da20ceb42f90"
      },
      "execution_count": 3,
      "outputs": [
        {
          "output_type": "execute_result",
          "data": {
            "text/plain": [
              "[8, 'Q']"
            ]
          },
          "metadata": {},
          "execution_count": 3
        }
      ]
    },
    {
      "cell_type": "code",
      "source": [
        "blackjack_hand==tuple(decoded_hand)"
      ],
      "metadata": {
        "id": "wY8hK84J1Ieg",
        "colab": {
          "base_uri": "https://localhost:8080/"
        },
        "outputId": "7a7e9f43-d009-4665-a634-85d591c5e6d9"
      },
      "execution_count": 4,
      "outputs": [
        {
          "output_type": "execute_result",
          "data": {
            "text/plain": [
              "True"
            ]
          },
          "metadata": {},
          "execution_count": 4
        }
      ]
    },
    {
      "cell_type": "code",
      "source": [],
      "metadata": {
        "id": "_3AvpZN41Igm"
      },
      "execution_count": null,
      "outputs": []
    },
    {
      "cell_type": "code",
      "source": [],
      "metadata": {
        "id": "7FiNaCth1Iis"
      },
      "execution_count": null,
      "outputs": []
    },
    {
      "cell_type": "code",
      "source": [],
      "metadata": {
        "id": "NLehIuU01IlC"
      },
      "execution_count": null,
      "outputs": []
    },
    {
      "cell_type": "code",
      "source": [],
      "metadata": {
        "id": "LVvHVXom1InA"
      },
      "execution_count": null,
      "outputs": []
    },
    {
      "cell_type": "code",
      "source": [],
      "metadata": {
        "id": "6-lgyk6k1IpP"
      },
      "execution_count": null,
      "outputs": []
    },
    {
      "cell_type": "code",
      "source": [],
      "metadata": {
        "id": "OyyYdEEv1IuW"
      },
      "execution_count": null,
      "outputs": []
    },
    {
      "cell_type": "code",
      "source": [],
      "metadata": {
        "id": "v1bJJJfX1Iwd"
      },
      "execution_count": null,
      "outputs": []
    },
    {
      "cell_type": "code",
      "source": [],
      "metadata": {
        "id": "hFqyklAD1Iyn"
      },
      "execution_count": null,
      "outputs": []
    },
    {
      "cell_type": "code",
      "source": [],
      "metadata": {
        "id": "SyFJ42Na1I0z"
      },
      "execution_count": null,
      "outputs": []
    }
  ]
}